{
 "cells": [
  {
   "cell_type": "markdown",
   "metadata": {},
   "source": [
    "# Biprop Tutorial\n",
    "\n",
    "## 2 - Election Objects\n",
    "\n",
    "In this module we will take a closer look at the `Election` objects."
   ]
  },
  {
   "cell_type": "markdown",
   "metadata": {},
   "source": [
    "### Part 1 - Election Creation and Attributes"
   ]
  },
  {
   "cell_type": "markdown",
   "metadata": {},
   "source": [
    "To demonstrate all functionallity, we need a larger example with more parties and regions. We therefore look at the most recent election of the _Interplanetary Space Dinosaur Federation_ (ISDF). The running parties, regions/voting districts and the votes are listed below. The ISDF's parliament has 100 seats. We use this to create the `Election` object."
   ]
  },
  {
   "cell_type": "code",
   "execution_count": 1,
   "metadata": {},
   "outputs": [
    {
     "name": "stdout",
     "output_type": "stream",
     "text": [
      "e.party_names = None\n",
      "e.region_names = None\n"
     ]
    }
   ],
   "source": [
    "import biprop as bp\n",
    "import numpy as np\n",
    "\n",
    "parties = ['Thrushes',\n",
    "           'Blackbirds',\n",
    "           'Sparrowhawks',\n",
    "           'Starlings',\n",
    "           'Geese',\n",
    "           'Ducks',\n",
    "           'Sparrows',\n",
    "           'Owls',\n",
    "           'Cuckoos',\n",
    "           'Waxwings',\n",
    "           'Sperrlinge']\n",
    "regions = ['Mercury', 'Venus', 'Earth', 'Mars', 'Jupyter',\n",
    "           'Saturn', 'Uranus', 'Neptune', 'Pluto']\n",
    "votes = [[    8,     0,   162,   150,   300,     7,   113,   173],\n",
    "         [ 1977,  3834,  2392,  5379,   675,  3305,  2626,  4700],\n",
    "         [  439,  2467,  1620,  5454,  6596,    42,  8359,  3257],\n",
    "         [    0,    40,   135,  1500,  1026,   458,  3536,  2321],\n",
    "         [  751,  3525,  3373,  1407,  3328,  1704,  7256,  4163],\n",
    "         [    1,     4,     0,     8,    10,     4,    13,     0],\n",
    "         [ 1153,  1886,  3988,    13,   134,  1171,  7834,  6980],\n",
    "         [  461,  6836,  1664,  6686,  5911,   401,  7010,  7036],\n",
    "         [  106,   330,   420,   213,  1165,   284,   405,  1029],\n",
    "         [  425,  8269,   265,  3813,  7055,  2857,  9659,  6160],\n",
    "         [   50,  8250,   517,  7910,  7583,  2601,  5305, 114040000]]\n",
    "\n",
    "e = bp.Election(votes)\n",
    "print('e.party_names =', e.party_names)\n",
    "print('e.region_names =', e.region_names)"
   ]
  },
  {
   "cell_type": "markdown",
   "metadata": {},
   "source": [
    "To create an `Election` object, we always need at least a `votes` array. But we do not need to pass the party or region names. If we do not specify the names, the corresponding attributes are set to `None`. However, it is strongly recommended to always set party and region names. So let us do that now."
   ]
  },
  {
   "cell_type": "code",
   "execution_count": 2,
   "metadata": {},
   "outputs": [
    {
     "ename": "ValueError",
     "evalue": "Cannot assign name list with 9 regions to election with 8 regions.",
     "output_type": "error",
     "traceback": [
      "\u001b[1;31m---------------------------------------------------------------------------\u001b[0m",
      "\u001b[1;31mValueError\u001b[0m                                Traceback (most recent call last)",
      "\u001b[1;32m~\\AppData\\Local\\Temp\\ipykernel_17816\\31998347.py\u001b[0m in \u001b[0;36m<module>\u001b[1;34m\u001b[0m\n\u001b[0;32m      1\u001b[0m \u001b[0me\u001b[0m\u001b[1;33m.\u001b[0m\u001b[0mparty_names\u001b[0m \u001b[1;33m=\u001b[0m \u001b[0mparties\u001b[0m\u001b[1;33m\u001b[0m\u001b[1;33m\u001b[0m\u001b[0m\n\u001b[1;32m----> 2\u001b[1;33m \u001b[0me\u001b[0m\u001b[1;33m.\u001b[0m\u001b[0mregion_names\u001b[0m \u001b[1;33m=\u001b[0m \u001b[0mregions\u001b[0m\u001b[1;33m\u001b[0m\u001b[1;33m\u001b[0m\u001b[0m\n\u001b[0m",
      "\u001b[1;32m~\\AppData\\Local\\Packages\\PythonSoftwareFoundation.Python.3.7_qbz5n2kfra8p0\\LocalCache\\local-packages\\Python37\\site-packages\\biprop\\biprop.py\u001b[0m in \u001b[0;36mregion_names\u001b[1;34m(self, new_region_names)\u001b[0m\n\u001b[0;32m    199\u001b[0m         \u001b[0mnew_region_names\u001b[0m \u001b[1;33m=\u001b[0m \u001b[0mlist\u001b[0m\u001b[1;33m(\u001b[0m\u001b[0mnew_region_names\u001b[0m\u001b[1;33m)\u001b[0m\u001b[1;33m\u001b[0m\u001b[1;33m\u001b[0m\u001b[0m\n\u001b[0;32m    200\u001b[0m         \u001b[1;32mif\u001b[0m \u001b[0mlen\u001b[0m\u001b[1;33m(\u001b[0m\u001b[0mnew_region_names\u001b[0m\u001b[1;33m)\u001b[0m \u001b[1;33m!=\u001b[0m \u001b[0mself\u001b[0m\u001b[1;33m.\u001b[0m\u001b[0mvotes\u001b[0m\u001b[1;33m.\u001b[0m\u001b[0mshape\u001b[0m\u001b[1;33m[\u001b[0m\u001b[1;36m1\u001b[0m\u001b[1;33m]\u001b[0m\u001b[1;33m:\u001b[0m\u001b[1;33m\u001b[0m\u001b[1;33m\u001b[0m\u001b[0m\n\u001b[1;32m--> 201\u001b[1;33m             \u001b[1;32mraise\u001b[0m \u001b[0mValueError\u001b[0m\u001b[1;33m(\u001b[0m\u001b[1;34mf'Cannot assign name list with {len(new_region_names)} regions to election with {self.votes.shape[1]} regions.'\u001b[0m\u001b[1;33m)\u001b[0m\u001b[1;33m\u001b[0m\u001b[1;33m\u001b[0m\u001b[0m\n\u001b[0m\u001b[0;32m    202\u001b[0m         \u001b[0mself\u001b[0m\u001b[1;33m.\u001b[0m\u001b[0m_region_names\u001b[0m \u001b[1;33m=\u001b[0m \u001b[0mnew_region_names\u001b[0m\u001b[1;33m\u001b[0m\u001b[1;33m\u001b[0m\u001b[0m\n\u001b[0;32m    203\u001b[0m     \u001b[1;33m@\u001b[0m\u001b[0mproperty\u001b[0m\u001b[1;33m\u001b[0m\u001b[1;33m\u001b[0m\u001b[0m\n",
      "\u001b[1;31mValueError\u001b[0m: Cannot assign name list with 9 regions to election with 8 regions."
     ]
    }
   ],
   "source": [
    "e.party_names = parties\n",
    "e.region_names = regions"
   ]
  },
  {
   "cell_type": "markdown",
   "metadata": {},
   "source": [
    "It looks like something went wrong. We were able to assign the party name list, but not the region name list. The reason seems to be that the number of regions in the `votes` array does not match the number of names in `regions`. Upon closer inspection, this should not surprise us. Someone gave us an old region list that contains the region \"Pluto\", even though \"Pluto\" has not been a voting district since 2006! So let us sort that out and try again:"
   ]
  },
  {
   "cell_type": "code",
   "execution_count": 3,
   "metadata": {},
   "outputs": [],
   "source": [
    "regions.remove('Pluto')\n",
    "e.region_names = regions"
   ]
  },
  {
   "cell_type": "markdown",
   "metadata": {},
   "source": [
    "Now it worked. When you try to set the `party_names` and `region_names` attributes, it is important that they have the correct length. The number of parties and regions of your election is defined by the shape of the `votes` array. You can access these numbers with the `shape`, `NoP`, and `NoR` attributes."
   ]
  },
  {
   "cell_type": "code",
   "execution_count": 4,
   "metadata": {},
   "outputs": [
    {
     "name": "stdout",
     "output_type": "stream",
     "text": [
      "Shape of votes:    e.shape = (11, 8)\n",
      "Number of parties: e.NoP = 11\n",
      "Number of regions: e.NoR = 8\n"
     ]
    }
   ],
   "source": [
    "print('Shape of votes:    e.shape =', e.shape)\n",
    "print('Number of parties: e.NoP =', e.NoP)\n",
    "print('Number of regions: e.NoR =', e.NoR)"
   ]
  },
  {
   "cell_type": "markdown",
   "metadata": {},
   "source": [
    "I just noticed that I misspelled the planet \"Jupiter\" (bad habit that happens when you spend too much time with iPython notebooks). We can change individual items in the `region_names` list as you would in any other list too."
   ]
  },
  {
   "cell_type": "code",
   "execution_count": 5,
   "metadata": {},
   "outputs": [
    {
     "name": "stdout",
     "output_type": "stream",
     "text": [
      "Before: e.region_names[4] = Jupyter\n",
      "After : e.region_names[4] = Jupiter\n"
     ]
    }
   ],
   "source": [
    "print(f'Before: e.region_names[4] = {e.region_names[4]}')\n",
    "e.region_names[4] = 'Jupiter'\n",
    "print(f'After : e.region_names[4] = {e.region_names[4]}')"
   ]
  },
  {
   "cell_type": "markdown",
   "metadata": {},
   "source": [
    "Other `Election` attributes include `parties` and `regions` (which are just aliases for `party_names` and `region_names`), `total_votes` (the total number of votes in the `votes` array) and `total_seats`, which we will set to 100 now."
   ]
  },
  {
   "cell_type": "code",
   "execution_count": 6,
   "metadata": {},
   "outputs": [
    {
     "name": "stdout",
     "output_type": "stream",
     "text": [
      "e.parties = ['Thrushes', 'Blackbirds', 'Sparrowhawks', 'Starlings', 'Geese', 'Ducks', 'Sparrows', 'Owls', 'Cuckoos', 'Waxwings', 'Sperrlinge']\n",
      "e.regions == e.region_names : True\n",
      "e.total_votes = 114262433.0\n",
      "e.total_seats = 100\n"
     ]
    }
   ],
   "source": [
    "print('e.parties =', e.parties)\n",
    "print('e.regions == e.region_names :', e.regions==e.region_names)\n",
    "print('e.total_votes =', e.total_votes)\n",
    "e.total_seats = 100\n",
    "print('e.total_seats =', e.total_seats)\n"
   ]
  },
  {
   "cell_type": "markdown",
   "metadata": {},
   "source": [
    "Something does not seem right though. There are only around 300'000 registered voters in the ISDF. However, we have over 114 million votes!. Let us inspect the `votes` array:"
   ]
  },
  {
   "cell_type": "code",
   "execution_count": 7,
   "metadata": {},
   "outputs": [
    {
     "name": "stdout",
     "output_type": "stream",
     "text": [
      "e.votes =\n",
      "[[8.0000e+00 0.0000e+00 1.6200e+02 1.5000e+02 3.0000e+02 7.0000e+00\n",
      "  1.1300e+02 1.7300e+02]\n",
      " [1.9770e+03 3.8340e+03 2.3920e+03 5.3790e+03 6.7500e+02 3.3050e+03\n",
      "  2.6260e+03 4.7000e+03]\n",
      " [4.3900e+02 2.4670e+03 1.6200e+03 5.4540e+03 6.5960e+03 4.2000e+01\n",
      "  8.3590e+03 3.2570e+03]\n",
      " [0.0000e+00 4.0000e+01 1.3500e+02 1.5000e+03 1.0260e+03 4.5800e+02\n",
      "  3.5360e+03 2.3210e+03]\n",
      " [7.5100e+02 3.5250e+03 3.3730e+03 1.4070e+03 3.3280e+03 1.7040e+03\n",
      "  7.2560e+03 4.1630e+03]\n",
      " [1.0000e+00 4.0000e+00 0.0000e+00 8.0000e+00 1.0000e+01 4.0000e+00\n",
      "  1.3000e+01 0.0000e+00]\n",
      " [1.1530e+03 1.8860e+03 3.9880e+03 1.3000e+01 1.3400e+02 1.1710e+03\n",
      "  7.8340e+03 6.9800e+03]\n",
      " [4.6100e+02 6.8360e+03 1.6640e+03 6.6860e+03 5.9110e+03 4.0100e+02\n",
      "  7.0100e+03 7.0360e+03]\n",
      " [1.0600e+02 3.3000e+02 4.2000e+02 2.1300e+02 1.1650e+03 2.8400e+02\n",
      "  4.0500e+02 1.0290e+03]\n",
      " [4.2500e+02 8.2690e+03 2.6500e+02 3.8130e+03 7.0550e+03 2.8570e+03\n",
      "  9.6590e+03 6.1600e+03]\n",
      " [5.0000e+01 8.2500e+03 5.1700e+02 7.9100e+03 7.5830e+03 2.6010e+03\n",
      "  5.3050e+03 1.1404e+08]]\n"
     ]
    }
   ],
   "source": [
    "print('e.votes =')\n",
    "print(e.votes)"
   ]
  },
  {
   "cell_type": "markdown",
   "metadata": {},
   "source": [
    "AHA! Now I see it. Someone tried to cheat and added four additional zeros to the last entry in the array. Let us quickly revert that. Luckily, the `votes` array can still be modified."
   ]
  },
  {
   "cell_type": "code",
   "execution_count": 8,
   "metadata": {},
   "outputs": [
    {
     "name": "stdout",
     "output_type": "stream",
     "text": [
      "e.total_votes = 233837.0\n"
     ]
    }
   ],
   "source": [
    "e.votes[-1,-1] = 11404\n",
    "print('e.total_votes =', e.total_votes)"
   ]
  },
  {
   "cell_type": "markdown",
   "metadata": {},
   "source": [
    "Now the total votes seem more reasonable. Quick sidenote: You may have noticed that the elements of the `votes` array are floats, not integers. This might sound weird at first, but there are some voting schemes in which the votes are weighted with different factors which can result in non-integer votes."
   ]
  },
  {
   "cell_type": "markdown",
   "metadata": {},
   "source": [
    "### Part 2 - Pre-Apportionment Phase\n",
    "\n",
    "Now that we have defined our `Election` object, let me show you what we can do with it. Some methods modify the object data in an irreversible manner. Some methods only work before such an irreversible change was made, which is why we cannot call arbitrary methods in an arbitrary order. We can generally divide the `Election` object's life cycle into three distinct phases with different callable methods. We have a _pre-apportionment phase_, an _apportionment phase_ and a _post-apportionment phase_. In this section, we will look at the pre-apportionment phase and the methods that we can use in this phase."
   ]
  },
  {
   "cell_type": "markdown",
   "metadata": {},
   "source": [
    "The pre-apportionment phase is the time after we created the `Election` object and before we started the first apportionment calculation. In this phase, the number of parties and regions is not yet final and can still change (more specifically, they can decrease, but not increase). In all later phases, this is not the case anymore.\n",
    "\n",
    "But why would you want the number of parties to decrease? Well, there are several good reasons. For example, you might have a dataset from a recent election with several parties, including party _A_ and party _B_. You have observed that both parties have a very similar program and ideology. So you start wondering: What if these two parties ran together as one? Would this improve their result? Would they get more or less seats if they ran together? To answer these questions, we need to merge two parties in the `Election` object and add together their votes. This could also be done with the raw data before the object creation, but the `Election` object has a method specificall for this task that is often easier to use. We will demonstrate this method here on our ISDF example.\n",
    "\n",
    "First, let us take another look at the different parties in the ISDF election:"
   ]
  },
  {
   "cell_type": "code",
   "execution_count": 9,
   "metadata": {},
   "outputs": [
    {
     "data": {
      "text/plain": [
       "['Thrushes',\n",
       " 'Blackbirds',\n",
       " 'Sparrowhawks',\n",
       " 'Starlings',\n",
       " 'Geese',\n",
       " 'Ducks',\n",
       " 'Sparrows',\n",
       " 'Owls',\n",
       " 'Cuckoos',\n",
       " 'Waxwings',\n",
       " 'Sperrlinge']"
      ]
     },
     "execution_count": 9,
     "metadata": {},
     "output_type": "execute_result"
    }
   ],
   "source": [
    "e.parties"
   ]
  },
  {
   "cell_type": "markdown",
   "metadata": {},
   "source": [
    "Did you notice something odd? One of these bird names is not an English name. \"Sperrlinge\" is just the German word for \"sparrows\". And indeed, only one sparrow party ran in the elections. However, the sparrow party primarily targets voters from the German speaking minority in the ISDF and often markets itself as Sperrlinge towards this group. During the counting, there must have been a mixup and some of the sparrows votes were counted towards the \"Sparrows\" party and some towards the \"Sperrlinge\" party. To undo this, we must merge these parties together and their votes up. The `Election` object has a method specifically for that called `merge`."
   ]
  },
  {
   "cell_type": "code",
   "execution_count": 10,
   "metadata": {},
   "outputs": [
    {
     "name": "stdout",
     "output_type": "stream",
     "text": [
      "Total number of \"Sparrow\" votes before merger:   23159.0\n",
      "Total number of \"Sperrling\" votes before merger: 43620.0\n",
      "\n",
      "Parties after merger:\n",
      "    ['Thrushes', 'Blackbirds', 'Sparrowhawks', 'Starlings', 'Geese', 'Ducks', 'Sparrows', 'Owls', 'Cuckoos', 'Waxwings']\n",
      "Total number of \"Sparrow\" votes after merger:    66779.0\n"
     ]
    }
   ],
   "source": [
    "print('Total number of \"Sparrow\" votes before merger:  ', e.votes[6].sum())\n",
    "print('Total number of \"Sperrling\" votes before merger:', e.votes[-1].sum())\n",
    "print()\n",
    "\n",
    "e.merge(party_mergers=[['Sparrows', 'Sperrlinge']])\n",
    "\n",
    "print('Parties after merger:')\n",
    "print('   ', e.parties)\n",
    "print('Total number of \"Sparrow\" votes after merger:   ', e.votes[6].sum())"
   ]
  },
  {
   "cell_type": "markdown",
   "metadata": {},
   "source": [
    "This worked! The \"Sperrlinge\" are not listed as party anymore and if we look at the number of votes we see that no vote got lost. Let me explain the `merge` method in a bit more detail. It has two keyword arguments, `party_mergers` and `region_mergers` which are used to specify which parties and regions should be merged. We have not used the `region_mergers` in our example above, but it works the same way as the `party_mergers`. Values passed to `merge` have to be lists containing lists. Every list in the list is merger that we want to complete and should contain the name of every party that will be merged. We can perform multiple mergers at once, for example through using\n",
    "\n",
    "    party_mergers = [['Sparrows', 'Sperrlinge'], ['Ducks', 'Geese', 'Owls']]\n",
    "\n",
    "The merged parties take on the name of the first party listed in the respective merger list. So if we wanted the merged party to have its German name, we could have used"
   ]
  },
  {
   "cell_type": "code",
   "execution_count": 11,
   "metadata": {},
   "outputs": [
    {
     "name": "stdout",
     "output_type": "stream",
     "text": [
      "['Thrushes', 'Blackbirds', 'Sparrowhawks', 'Starlings', 'Geese', 'Ducks', 'Sperrlinge', 'Owls', 'Cuckoos', 'Waxwings']\n"
     ]
    }
   ],
   "source": [
    "e.merge(party_mergers=[['Sperrlinge', 'Sparrows']])\n",
    "print(e.parties)"
   ]
  },
  {
   "cell_type": "markdown",
   "metadata": {},
   "source": [
    "Make sure that no party name shows up in more than once, as this will raise a `ValueError`. Note that your merger arrays can contain names that do not exist. This can be used to change the name of the newly merged party into an arbitrary new name:"
   ]
  },
  {
   "cell_type": "code",
   "execution_count": 12,
   "metadata": {},
   "outputs": [
    {
     "name": "stdout",
     "output_type": "stream",
     "text": [
      "['Thrushes', 'Blackbirds', 'Sparrowhawks', 'Starlings', 'Geese', 'Ducks', 'CAPTAIN Jack Sparrow', 'Owls', 'Cuckoos', 'Waxwings']\n"
     ]
    }
   ],
   "source": [
    "e.merge(party_mergers=[['CAPTAIN Jack Sparrow', 'Sparrows', 'Sperrlinge']])\n",
    "print(e.parties)"
   ]
  },
  {
   "cell_type": "markdown",
   "metadata": {},
   "source": [
    "The `Election` object also contains the `merge_parties` and `merge_regions` methods, which internally just call the `merge` method and can be used if you only need to merge one of the two. In our example, we could have used"
   ]
  },
  {
   "cell_type": "code",
   "execution_count": 13,
   "metadata": {},
   "outputs": [
    {
     "name": "stdout",
     "output_type": "stream",
     "text": [
      "['Thrushes', 'Blackbirds', 'Sparrowhawks', 'Starlings', 'Geese', 'Ducks', 'Sparrows', 'Owls', 'Cuckoos', 'Waxwings']\n"
     ]
    }
   ],
   "source": [
    "e.merge_parties([['Sparrows', 'Sperrlinge', 'CAPTAIN Jack Sparrow']]) # We have to include\n",
    "                        # 'CAPTAIN Jack Sparrow' as this is the current name of the party\n",
    "print(e.parties)"
   ]
  },
  {
   "cell_type": "markdown",
   "metadata": {},
   "source": [
    "### Part 3 - Apportionment Phase"
   ]
  },
  {
   "cell_type": "markdown",
   "metadata": {},
   "source": [
    "In this part we will look at the second phase, the so-called apportionment phase. In this phase, we can use apportionment methods to calculate different seat distributions. This phase automatically begins once you call the first method that performs an apportionment. Let us start this phase now by calculating the ISDF election's seat distribution according to biproportional apportionment (like in the last tutorial, we do not calculate the upper apportionment explicitly and have to pass `np.round` as argument):"
   ]
  },
  {
   "cell_type": "code",
   "execution_count": 14,
   "metadata": {},
   "outputs": [
    {
     "name": "stdout",
     "output_type": "stream",
     "text": [
      "Lower apportionment converged after 3 iterations.\n"
     ]
    },
    {
     "data": {
      "text/plain": [
       "array([[0, 0, 0, 0, 0, 0, 0, 0],\n",
       "       [1, 2, 1, 2, 0, 2, 1, 2],\n",
       "       [0, 1, 1, 2, 3, 0, 4, 1],\n",
       "       [0, 0, 0, 1, 0, 0, 2, 1],\n",
       "       [0, 1, 1, 1, 2, 1, 3, 2],\n",
       "       [0, 0, 0, 0, 0, 0, 0, 0],\n",
       "       [1, 4, 2, 3, 4, 2, 5, 8],\n",
       "       [0, 3, 1, 3, 2, 0, 3, 3],\n",
       "       [0, 0, 0, 0, 1, 0, 0, 1],\n",
       "       [0, 4, 0, 2, 3, 1, 4, 2]])"
      ]
     },
     "execution_count": 14,
     "metadata": {},
     "output_type": "execute_result"
    }
   ],
   "source": [
    "e.biproportional_apportionment(party_seats=np.round, region_seats=np.round)"
   ]
  },
  {
   "cell_type": "markdown",
   "metadata": {},
   "source": [
    "Now that we have started this phase, we cannot change the number of parties anymore through calling the `merge` method. Trying to do so will result in an `InvalidOrderError`."
   ]
  },
  {
   "cell_type": "code",
   "execution_count": 15,
   "metadata": {},
   "outputs": [
    {
     "ename": "InvalidOrderError",
     "evalue": "Cannot merge parties or regions after the first distribution has been calculated or assigned.",
     "output_type": "error",
     "traceback": [
      "\u001b[1;31m---------------------------------------------------------------------------\u001b[0m",
      "\u001b[1;31mInvalidOrderError\u001b[0m                         Traceback (most recent call last)",
      "\u001b[1;32m~\\AppData\\Local\\Temp\\ipykernel_17816\\729710532.py\u001b[0m in \u001b[0;36m<module>\u001b[1;34m\u001b[0m\n\u001b[1;32m----> 1\u001b[1;33m \u001b[0me\u001b[0m\u001b[1;33m.\u001b[0m\u001b[0mmerge\u001b[0m\u001b[1;33m(\u001b[0m\u001b[0mparty_mergers\u001b[0m\u001b[1;33m=\u001b[0m\u001b[1;33m[\u001b[0m\u001b[1;33m[\u001b[0m\u001b[1;34m'Sparrows'\u001b[0m\u001b[1;33m,\u001b[0m \u001b[1;34m'Sperrlinge'\u001b[0m\u001b[1;33m]\u001b[0m\u001b[1;33m]\u001b[0m\u001b[1;33m)\u001b[0m\u001b[1;33m\u001b[0m\u001b[1;33m\u001b[0m\u001b[0m\n\u001b[0m",
      "\u001b[1;32m~\\AppData\\Local\\Packages\\PythonSoftwareFoundation.Python.3.7_qbz5n2kfra8p0\\LocalCache\\local-packages\\Python37\\site-packages\\biprop\\biprop.py\u001b[0m in \u001b[0;36mmerge\u001b[1;34m(self, party_mergers, region_mergers)\u001b[0m\n\u001b[0;32m    583\u001b[0m         \u001b[1;31m# check mode\u001b[0m\u001b[1;33m\u001b[0m\u001b[1;33m\u001b[0m\u001b[1;33m\u001b[0m\u001b[0m\n\u001b[0;32m    584\u001b[0m         \u001b[1;32mif\u001b[0m \u001b[0mself\u001b[0m\u001b[1;33m.\u001b[0m\u001b[0mmode\u001b[0m \u001b[1;33m>\u001b[0m \u001b[1;36m0\u001b[0m\u001b[1;33m:\u001b[0m\u001b[1;33m\u001b[0m\u001b[1;33m\u001b[0m\u001b[0m\n\u001b[1;32m--> 585\u001b[1;33m             \u001b[1;32mraise\u001b[0m \u001b[0mInvalidOrderError\u001b[0m\u001b[1;33m(\u001b[0m\u001b[1;34m'Cannot merge parties or regions after the first distribution has been calculated or assigned.'\u001b[0m\u001b[1;33m)\u001b[0m\u001b[1;33m\u001b[0m\u001b[1;33m\u001b[0m\u001b[0m\n\u001b[0m\u001b[0;32m    586\u001b[0m         \u001b[1;31m# check whether self.party_names and self.region_names are properly set\u001b[0m\u001b[1;33m\u001b[0m\u001b[1;33m\u001b[0m\u001b[1;33m\u001b[0m\u001b[0m\n\u001b[0;32m    587\u001b[0m         \u001b[1;32mif\u001b[0m \u001b[0mtype\u001b[0m\u001b[1;33m(\u001b[0m\u001b[0mparty_mergers\u001b[0m\u001b[1;33m)\u001b[0m\u001b[1;33m!=\u001b[0m\u001b[0mtype\u001b[0m\u001b[1;33m(\u001b[0m\u001b[1;32mNone\u001b[0m\u001b[1;33m)\u001b[0m \u001b[1;32mand\u001b[0m \u001b[0mself\u001b[0m\u001b[1;33m.\u001b[0m\u001b[0mparty_names\u001b[0m\u001b[1;33m==\u001b[0m\u001b[1;32mNone\u001b[0m\u001b[1;33m:\u001b[0m\u001b[1;33m\u001b[0m\u001b[1;33m\u001b[0m\u001b[0m\n",
      "\u001b[1;31mInvalidOrderError\u001b[0m: Cannot merge parties or regions after the first distribution has been calculated or assigned."
     ]
    }
   ],
   "source": [
    "e.merge(party_mergers=[['Sparrows', 'Sperrlinge']])"
   ]
  },
  {
   "cell_type": "markdown",
   "metadata": {},
   "source": [
    "I just noticed that we forgot to store the seat distribution in a local variable. We could recalculate it, but there is a faster way. The `Election` object has a `seats` attribute that stores the last calculated distribution."
   ]
  },
  {
   "cell_type": "code",
   "execution_count": 16,
   "metadata": {},
   "outputs": [
    {
     "name": "stdout",
     "output_type": "stream",
     "text": [
      "[[0 0 0 0 0 0 0 0]\n",
      " [1 2 1 2 0 2 1 2]\n",
      " [0 1 1 2 3 0 4 1]\n",
      " [0 0 0 1 0 0 2 1]\n",
      " [0 1 1 1 2 1 3 2]\n",
      " [0 0 0 0 0 0 0 0]\n",
      " [1 4 2 3 4 2 5 8]\n",
      " [0 3 1 3 2 0 3 3]\n",
      " [0 0 0 0 1 0 0 1]\n",
      " [0 4 0 2 3 1 4 2]]\n"
     ]
    }
   ],
   "source": [
    "seats = e.seats\n",
    "print(seats)"
   ]
  },
  {
   "cell_type": "markdown",
   "metadata": {},
   "source": [
    "We will take a closer look at apportionment methods and how to use them in a later tutorial. For now we move on to the next phase."
   ]
  },
  {
   "cell_type": "markdown",
   "metadata": {},
   "source": [
    "### Part 4 - Post-Apportionment Phase"
   ]
  },
  {
   "cell_type": "markdown",
   "metadata": {},
   "source": [
    "Now that we are done with our apportionment calculations, we can take a closer look at the calculated seats. Every row in the array corresponds to one party. Notice that there are two parties that did not receive any seats. In real elections, this very common. Sometimes, there are more parties that did not receive seats than parties that did. In such a case, we may want clean up our array and remove parties without seats. We also may want to sort the array such that parties with more seats or votes are higher up. Luckily for us, there is the `reorder` method that does this for us. Let's use it to sort the parties by the number of seats:"
   ]
  },
  {
   "cell_type": "code",
   "execution_count": 17,
   "metadata": {},
   "outputs": [
    {
     "name": "stdout",
     "output_type": "stream",
     "text": [
      "Party order before reordering: ['Thrushes', 'Blackbirds', 'Sparrowhawks', 'Starlings', 'Geese', 'Ducks', 'Sparrows', 'Owls', 'Cuckoos', 'Waxwings']\n",
      "Party order after reordering : ['Sparrows', 'Waxwings', 'Owls', 'Sparrowhawks', 'Blackbirds', 'Geese', 'Starlings', 'Cuckoos', 'Thrushes', 'Ducks']\n",
      "Seats array:\n",
      "[[1 4 2 3 4 2 5 8]\n",
      " [0 4 0 2 3 1 4 2]\n",
      " [0 3 1 3 2 0 3 3]\n",
      " [0 1 1 2 3 0 4 1]\n",
      " [1 2 1 2 0 2 1 2]\n",
      " [0 1 1 1 2 1 3 2]\n",
      " [0 0 0 1 0 0 2 1]\n",
      " [0 0 0 0 1 0 0 1]\n",
      " [0 0 0 0 0 0 0 0]\n",
      " [0 0 0 0 0 0 0 0]]\n"
     ]
    }
   ],
   "source": [
    "print(f'Party order before reordering: {e.parties}')\n",
    "e.reorder(party_order='seats')\n",
    "print(f'Party order after reordering : {e.parties}')\n",
    "print(f'Seats array:\\n{e.seats}')"
   ]
  },
  {
   "cell_type": "markdown",
   "metadata": {},
   "source": [
    "The `reorder` method autamatically reorders the `votes` and `seats` arrays, and the names of parties and regions. As mentioned before, there are two parties without seats. To keep our data compact and tidy, we want to get rid of them. The `reorder` method has an `irr_parties` keyword exactly for that. We can pass three possible values: `None`, which is the default and does nothing to the irrelevant parties, `delte`, which deletes the irrelevant parties and their columns, and `other`, which groups the irrelevant parties together into a new \"party\" with the name \"other\". Deleting sounds tempting for our purpose, but it is not what we want. Using `delte` would also delete the irrelevant parties' votes and alter the total number of votes in the `votes` array, which we want to avoid. We therefore use the `other` keyword."
   ]
  },
  {
   "cell_type": "code",
   "execution_count": 18,
   "metadata": {},
   "outputs": [
    {
     "name": "stdout",
     "output_type": "stream",
     "text": [
      "Parties before reordering  : ['Sparrows', 'Waxwings', 'Owls', 'Sparrowhawks', 'Blackbirds', 'Geese', 'Starlings', 'Cuckoos', 'Thrushes', 'Ducks']\n",
      "Votes of Thrushes and Ducks: 953.0\n",
      "Parties after reordering   : ['Sparrows', 'Waxwings', 'Owls', 'Sparrowhawks', 'Blackbirds', 'Geese', 'Starlings', 'Cuckoos', 'other']\n",
      "Votes of \"other\" parties   : 953.0\n"
     ]
    }
   ],
   "source": [
    "print(f'Parties before reordering  : {e.parties}')\n",
    "print(f'Votes of Thrushes and Ducks: {e.votes.sum(axis=1)[-2:].sum()}')\n",
    "e.reorder(irr_parties='other')\n",
    "print(f'Parties after reordering   : {e.parties}')\n",
    "print(f'Votes of \"other\" parties   : {e.votes.sum(axis=1)[-1]}')"
   ]
  },
  {
   "cell_type": "markdown",
   "metadata": {},
   "source": [
    "As we can see, the Thrushes and Ducks were grouped together and are now listed as \"other\" parties. We have also calculated the total votes for the Thrushes and Ducks before the reordering and the total votes for the other parties after reordering. Since these numbers are the same, we can rest assured that no vote was lost. The \"other\" parties are by default at the very end, even if you sort the parties alphabetically. If you want to avoid that, you can use `other_parties_at_end=False`. If you do not like the name \"other\", you can choose your own name for the other parties with the `other_parties_name` keyword:"
   ]
  },
  {
   "cell_type": "code",
   "execution_count": 19,
   "metadata": {},
   "outputs": [
    {
     "name": "stdout",
     "output_type": "stream",
     "text": [
      "Party order before reordering: ['Sparrows', 'Waxwings', 'Owls', 'Sparrowhawks', 'Blackbirds', 'Geese', 'Starlings', 'Cuckoos', 'other']\n",
      "Party order after reordering : ['Blackbirds', 'Cuckoos', 'Geese', 'Loosers', 'Owls', 'Sparrowhawks', 'Sparrows', 'Starlings', 'Waxwings']\n"
     ]
    }
   ],
   "source": [
    "print(f'Party order before reordering: {e.parties}')\n",
    "e.reorder(party_order='alphabetical', irr_parties='other', other_parties_name='Loosers', other_parties_at_end=False)\n",
    "print(f'Party order after reordering : {e.parties}')"
   ]
  },
  {
   "cell_type": "markdown",
   "metadata": {},
   "source": [
    "Now \"Loosers\" is a bit disrespectfull, so let us change it back, sort the parties by the number of received votes and have the irrelevant parties at the end again:"
   ]
  },
  {
   "cell_type": "code",
   "execution_count": 20,
   "metadata": {},
   "outputs": [
    {
     "name": "stdout",
     "output_type": "stream",
     "text": [
      "Party order before reordering: ['Blackbirds', 'Cuckoos', 'Geese', 'Loosers', 'Owls', 'Sparrowhawks', 'Sparrows', 'Starlings', 'Waxwings']\n",
      "Party order after reordering : ['Sparrows', 'Waxwings', 'Owls', 'Sparrowhawks', 'Geese', 'Blackbirds', 'Starlings', 'Cuckoos', 'other']\n"
     ]
    }
   ],
   "source": [
    "print(f'Party order before reordering: {e.parties}')\n",
    "# we do not need to set `other_parties_name='other'` and `other_parties_at_end=True`\n",
    "# as these are the default values\n",
    "e.reorder(party_order='votes', irr_parties='other')\n",
    "print(f'Party order after reordering : {e.parties}')"
   ]
  },
  {
   "cell_type": "markdown",
   "metadata": {},
   "source": [
    "Calling `reorder` with `irr_parties='other'` or `irr_regions='delete'` changes the shapes of the `votes` and `seats` arrays and the meanings of rows and columns. Now they can also stand for collections of parties or regions. Since apportionment methods operate on parties and regions rather than on collections, performing another apportionment method now would not make sense. We have thus entered the _post-apportionment phase_. Calling another apportionment method will cause an `InvalidOrderError`. "
   ]
  },
  {
   "cell_type": "code",
   "execution_count": 21,
   "metadata": {},
   "outputs": [
    {
     "ename": "InvalidOrderError",
     "evalue": "Cannot perform upper apportionment after sorting out irrelevant parties and regions with `self.reorder`.",
     "output_type": "error",
     "traceback": [
      "\u001b[1;31m---------------------------------------------------------------------------\u001b[0m",
      "\u001b[1;31mInvalidOrderError\u001b[0m                         Traceback (most recent call last)",
      "\u001b[1;32m~\\AppData\\Local\\Temp\\ipykernel_17816\\898300831.py\u001b[0m in \u001b[0;36m<module>\u001b[1;34m\u001b[0m\n\u001b[1;32m----> 1\u001b[1;33m \u001b[0me\u001b[0m\u001b[1;33m.\u001b[0m\u001b[0mupper_apportionment\u001b[0m\u001b[1;33m(\u001b[0m\u001b[0mwhich\u001b[0m\u001b[1;33m=\u001b[0m\u001b[1;34m'parties'\u001b[0m\u001b[1;33m)\u001b[0m\u001b[1;33m\u001b[0m\u001b[1;33m\u001b[0m\u001b[0m\n\u001b[0m",
      "\u001b[1;32m~\\AppData\\Local\\Packages\\PythonSoftwareFoundation.Python.3.7_qbz5n2kfra8p0\\LocalCache\\local-packages\\Python37\\site-packages\\biprop\\biprop.py\u001b[0m in \u001b[0;36mupper_apportionment\u001b[1;34m(self, total_seats, which, rounding_method, quorum, return_divisor, update_seats, max_depth, scaling)\u001b[0m\n\u001b[0;32m    439\u001b[0m         \u001b[1;31m# check and update mode\u001b[0m\u001b[1;33m\u001b[0m\u001b[1;33m\u001b[0m\u001b[1;33m\u001b[0m\u001b[0m\n\u001b[0;32m    440\u001b[0m         \u001b[1;32mif\u001b[0m \u001b[0mself\u001b[0m\u001b[1;33m.\u001b[0m\u001b[0mmode\u001b[0m \u001b[1;33m>\u001b[0m \u001b[1;36m1\u001b[0m\u001b[1;33m:\u001b[0m\u001b[1;33m\u001b[0m\u001b[1;33m\u001b[0m\u001b[0m\n\u001b[1;32m--> 441\u001b[1;33m             \u001b[1;32mraise\u001b[0m \u001b[0mInvalidOrderError\u001b[0m\u001b[1;33m(\u001b[0m\u001b[1;34m'Cannot perform upper apportionment after sorting out irrelevant parties and regions with `self.reorder`.'\u001b[0m\u001b[1;33m)\u001b[0m\u001b[1;33m\u001b[0m\u001b[1;33m\u001b[0m\u001b[0m\n\u001b[0m\u001b[0;32m    442\u001b[0m         \u001b[0mself\u001b[0m\u001b[1;33m.\u001b[0m\u001b[0m_mode\u001b[0m \u001b[1;33m=\u001b[0m \u001b[0mmax\u001b[0m\u001b[1;33m(\u001b[0m\u001b[1;36m1\u001b[0m\u001b[1;33m,\u001b[0m \u001b[0mself\u001b[0m\u001b[1;33m.\u001b[0m\u001b[0mmode\u001b[0m\u001b[1;33m)\u001b[0m\u001b[1;33m\u001b[0m\u001b[1;33m\u001b[0m\u001b[0m\n\u001b[0;32m    443\u001b[0m         \u001b[1;31m# copy votes array\u001b[0m\u001b[1;33m\u001b[0m\u001b[1;33m\u001b[0m\u001b[1;33m\u001b[0m\u001b[0m\n",
      "\u001b[1;31mInvalidOrderError\u001b[0m: Cannot perform upper apportionment after sorting out irrelevant parties and regions with `self.reorder`."
     ]
    }
   ],
   "source": [
    "e.upper_apportionment(which='parties')"
   ]
  },
  {
   "cell_type": "markdown",
   "metadata": {},
   "source": [
    "So far we only reordered the parties. However, we can also reorder the regions. Reordering regions works the same way. Let us order the regions alphabetically:"
   ]
  },
  {
   "cell_type": "code",
   "execution_count": 22,
   "metadata": {},
   "outputs": [
    {
     "name": "stdout",
     "output_type": "stream",
     "text": [
      "Region order before reordering: ['Mercury', 'Venus', 'Earth', 'Mars', 'Jupiter', 'Saturn', 'Uranus', 'Neptune']\n",
      "Region order after reordering : ['Earth', 'Jupiter', 'Mars', 'Mercury', 'Neptune', 'Saturn', 'Uranus', 'Venus']\n"
     ]
    }
   ],
   "source": [
    "print(f'Region order before reordering: {e.regions}')\n",
    "e.reorder(region_order='alphabetical')\n",
    "print(f'Region order after reordering : {e.regions}')"
   ]
  },
  {
   "cell_type": "markdown",
   "metadata": {},
   "source": [
    "Actually, now that I look at it, ordering the planets alphabetically looks stupid. Let us go back to the initial order. Unless we are very lucky, we cannot return to the original order by ordering the regions by number of votes. We want a custom order. Luckily, we can pass such a custom order to the reorder function:"
   ]
  },
  {
   "cell_type": "code",
   "execution_count": 23,
   "metadata": {},
   "outputs": [
    {
     "name": "stdout",
     "output_type": "stream",
     "text": [
      "Region order before reordering: ['Earth', 'Jupiter', 'Mars', 'Mercury', 'Neptune', 'Saturn', 'Uranus', 'Venus']\n",
      "Region order after reordering : ['Venus', 'Earth', 'Jupiter', 'Saturn', 'Uranus', 'Neptune', 'Mars', 'Mercury']\n"
     ]
    }
   ],
   "source": [
    "custom_order = ['Venus', 'Earth', 'Jupiter', 'Saturn', 'Uranus', 'Neptune', 'Earth', 'Pluto']\n",
    "print(f'Region order before reordering: {e.regions}')\n",
    "e.reorder(region_order=custom_order)\n",
    "print(f'Region order after reordering : {e.regions}')"
   ]
  },
  {
   "cell_type": "markdown",
   "metadata": {},
   "source": [
    "Oh no! I messed up the `custom_order` array. Mistakes like these happen when you code all night long and don't get enough caffeine. Well, on the plus side, this gives me the opportunity to explain to you how these custom orders work in detail. Regions that are mentioned in `custom_order` will show up first, in the order specified by `custom_order`. Regions not mentioned in `custom_order` show up last, in the same relative order they had before reordering. Since we forgot to include Mars and Mercury, they are at the end of the new order. Repetions of regions or regions that do not exist are ignored. That is why the Earth shows up between Venus and Jupiter and why Pluto does not show up at all. Now let us reorder properly:"
   ]
  },
  {
   "cell_type": "code",
   "execution_count": 24,
   "metadata": {},
   "outputs": [
    {
     "name": "stdout",
     "output_type": "stream",
     "text": [
      "Region order before reordering: ['Venus', 'Earth', 'Jupiter', 'Saturn', 'Uranus', 'Neptune', 'Mars', 'Mercury']\n",
      "Region order after reordering : ['Mercury', 'Venus', 'Earth', 'Mars', 'Jupiter', 'Saturn', 'Uranus', 'Neptune']\n"
     ]
    }
   ],
   "source": [
    "custom_order = ['Mercury', 'Venus', 'Earth', 'Mars', 'Jupiter', 'Saturn', 'Uranus', 'Neptune']\n",
    "print(f'Region order before reordering: {e.regions}')\n",
    "e.reorder(region_order=custom_order)\n",
    "print(f'Region order after reordering : {e.regions}')"
   ]
  },
  {
   "cell_type": "markdown",
   "metadata": {},
   "source": [
    "If you enjoy some good old code golfing, you can use `reorder` to simultaneously reorder the parties and regions."
   ]
  },
  {
   "cell_type": "code",
   "execution_count": 25,
   "metadata": {},
   "outputs": [
    {
     "name": "stdout",
     "output_type": "stream",
     "text": [
      "Party order before reordering : ['Sparrows', 'Waxwings', 'Owls', 'Sparrowhawks', 'Geese', 'Blackbirds', 'Starlings', 'Cuckoos', 'other']\n",
      "Region order before reordering: ['Mercury', 'Venus', 'Earth', 'Mars', 'Jupiter', 'Saturn', 'Uranus', 'Neptune']\n",
      "Party order after reordering  : ['Blackbirds', 'Cuckoos', 'Geese', 'Owls', 'Sparrowhawks', 'Sparrows', 'Starlings', 'Waxwings', 'other']\n",
      "Region order after reordering : ['Uranus', 'Neptune', 'Venus', 'Jupiter', 'Mars', 'Earth', 'Saturn', 'Mercury']\n"
     ]
    }
   ],
   "source": [
    "print(f'Party order before reordering : {e.parties}')\n",
    "print(f'Region order before reordering: {e.regions}')\n",
    "e.reorder(party_order='alphabetical', irr_parties='other', region_order='votes')\n",
    "print(f'Party order after reordering  : {e.parties}')\n",
    "print(f'Region order after reordering : {e.regions}')"
   ]
  },
  {
   "cell_type": "markdown",
   "metadata": {},
   "source": [
    "On the other hand, if you only want to change one thing at a time, you can also use the `reorder_parties` and `reorder_regions` methods, which are just aliases and internally call the `reorder` method."
   ]
  },
  {
   "cell_type": "code",
   "execution_count": 26,
   "metadata": {},
   "outputs": [
    {
     "name": "stdout",
     "output_type": "stream",
     "text": [
      "Party order before reordering : ['Blackbirds', 'Cuckoos', 'Geese', 'Owls', 'Sparrowhawks', 'Sparrows', 'Starlings', 'Waxwings', 'other']\n",
      "Region order before reordering: ['Uranus', 'Neptune', 'Venus', 'Jupiter', 'Mars', 'Earth', 'Saturn', 'Mercury']\n",
      "Party order after reordering  : ['Sparrows', 'Waxwings', 'Owls', 'Sparrowhawks', 'Geese', 'Blackbirds', 'Starlings', 'Cuckoos', 'other']\n",
      "Region order after reordering : ['Mercury', 'Venus', 'Earth', 'Mars', 'Jupiter', 'Saturn', 'Uranus', 'Neptune']\n"
     ]
    }
   ],
   "source": [
    "print(f'Party order before reordering : {e.parties}')\n",
    "print(f'Region order before reordering: {e.regions}')\n",
    "e.reorder_parties(party_order='votes', irr_parties='other')\n",
    "e.reorder_regions(region_order=custom_order)\n",
    "print(f'Party order after reordering  : {e.parties}')\n",
    "print(f'Region order after reordering : {e.regions}')"
   ]
  },
  {
   "cell_type": "markdown",
   "metadata": {},
   "source": [
    "Finally, let us take a look at the `irr_parties='delete'` option. If you insist on deleting the irrelevant parties rather than grouping them together, you can do that using this option."
   ]
  },
  {
   "cell_type": "code",
   "execution_count": 27,
   "metadata": {},
   "outputs": [
    {
     "name": "stdout",
     "output_type": "stream",
     "text": [
      "Parties before deletion    : ['Sparrows', 'Waxwings', 'Owls', 'Sparrowhawks', 'Geese', 'Blackbirds', 'Starlings', 'Cuckoos', 'other']\n",
      "e.votes.sum() = 233837.0\n",
      "Total votes before deletion: 233837.0\n",
      "Parties after deletion     : ['Sparrows', 'Waxwings', 'Owls', 'Sparrowhawks', 'Geese', 'Blackbirds', 'Starlings', 'Cuckoos']\n",
      "e.votes.sum() = 232884.0\n",
      "Total votes after deletion : 233837.0\n"
     ]
    }
   ],
   "source": [
    "print(f'Parties before deletion    : {e.parties}')\n",
    "print(f'e.votes.sum() = {e.votes.sum()}')\n",
    "print(f'Total votes before deletion: {e.total_votes}')\n",
    "e.reorder(irr_parties='delete')\n",
    "print(f'Parties after deletion     : {e.parties}')\n",
    "print(f'e.votes.sum() = {e.votes.sum()}')\n",
    "print(f'Total votes after deletion : {e.total_votes}')"
   ]
  },
  {
   "cell_type": "markdown",
   "metadata": {},
   "source": [
    "Even though we have deleted a row in the `votes` array and therefore changed the value of `e.votes.sum()`, the `total_votes` attribute still returns the initial number of votes. This can be useful when you want to calculate the vote share of parties after deleting irrelevant parties."
   ]
  },
  {
   "cell_type": "markdown",
   "metadata": {},
   "source": [
    "This brings us to the end of the second module of the tutorial. Thank you for sticking around!"
   ]
  }
 ],
 "metadata": {
  "kernelspec": {
   "display_name": "Python 3",
   "language": "python",
   "name": "python3"
  },
  "language_info": {
   "codemirror_mode": {
    "name": "ipython",
    "version": 3
   },
   "file_extension": ".py",
   "mimetype": "text/x-python",
   "name": "python",
   "nbconvert_exporter": "python",
   "pygments_lexer": "ipython3",
   "version": "3.7.9"
  }
 },
 "nbformat": 4,
 "nbformat_minor": 2
}
